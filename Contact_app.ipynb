{
  "nbformat": 4,
  "nbformat_minor": 0,
  "metadata": {
    "colab": {
      "provenance": [],
      "mount_file_id": "1ccYpF2zZxmWis069mclCAd0q00OTskm5",
      "authorship_tag": "ABX9TyM9RoTdAqb2ViZ6FrthnSDd",
      "include_colab_link": true
    },
    "kernelspec": {
      "name": "python3",
      "display_name": "Python 3"
    },
    "language_info": {
      "name": "python"
    }
  },
  "cells": [
    {
      "cell_type": "markdown",
      "metadata": {
        "id": "view-in-github",
        "colab_type": "text"
      },
      "source": [
        "<a href=\"https://colab.research.google.com/github/Pawarsnehal16/Contact-app/blob/main/Contact_app.ipynb\" target=\"_parent\"><img src=\"https://colab.research.google.com/assets/colab-badge.svg\" alt=\"Open In Colab\"/></a>"
      ]
    },
    {
      "cell_type": "code",
      "execution_count": 3,
      "metadata": {
        "id": "Qjbjs14uLEXs"
      },
      "outputs": [],
      "source": [
        "import os\n",
        "os.getcwd()\n",
        "os.chdir('/content/drive/MyDrive/Colab Notebooks/file handling/contacts')\n",
        "# '/content/drive/MyDrive/Colab Notebf=open('contacts.txt',mode='w')\n",
        "f=open('contacts.txt',mode='w')\n",
        "f.write('vivek, vivek@gmail.com, 9921668254\\nankur, ankur@gmail.com, 8806807004\\npranav, pranav@gmail.com, 987654321\\n')\n",
        "f.close()"
      ]
    },
    {
      "cell_type": "code",
      "source": [
        "def show_contacts():\n",
        "  f=open('contacts.txt','r')\n",
        "  print(f.read())\n",
        "  f.close()\n",
        ""
      ],
      "metadata": {
        "id": "cHOKk7iALSbt"
      },
      "execution_count": 4,
      "outputs": []
    },
    {
      "cell_type": "code",
      "source": [
        "def add_contact():\n",
        "  f=open('contacts.txt','a')\n",
        "  add_new = input('enter name :- ')+', '+input('enter email :- ')+', '+input('enter number :- ') + '\\n'\n",
        "  f.write(add_new)\n",
        "  f.close()"
      ],
      "metadata": {
        "id": "iE5MuEDxLW3I"
      },
      "execution_count": 5,
      "outputs": []
    },
    {
      "cell_type": "code",
      "source": [
        "def delete_contact(name):\n",
        "  f=open('contacts.txt','r')\n",
        "  x=f.readlines()\n",
        "  f.close()\n",
        "\n",
        "  found=False\n",
        "  for i in x:\n",
        "    if name in i:\n",
        "      x.remove(i)\n",
        "      found=True\n",
        "      break\n",
        "\n",
        "  if found==False:\n",
        "    print(\"contact not found\")\n",
        "  else:\n",
        "      f=open('contacts.txt','w')\n",
        "      f.writelines(x)\n",
        "      f.close()\n",
        "\n"
      ],
      "metadata": {
        "id": "ZCIkzsefLmnS"
      },
      "execution_count": 6,
      "outputs": []
    },
    {
      "cell_type": "code",
      "source": [
        "def update_contact(name):\n",
        "  f=open('contacts.txt','r')\n",
        "  a=f.readlines()\n",
        "  f.close()\n",
        "\n",
        "  flag = 0\n",
        "  store = -1\n",
        "  for i in range(len(a)):\n",
        "        if name in a[i]:\n",
        "            while True:\n",
        "                x = input('Enter n to update name, e to update email, num to update number: ').split()\n",
        "                if 'n' in x:\n",
        "                    name = input('Enter new name: ')\n",
        "                if 'e' in x:\n",
        "                    email = input('Enter new email: ')\n",
        "                if 'num' in x:\n",
        "                    number = input('Enter new number: ')\n",
        "\n",
        "            update = name + \", \" + email + ', ' + number\n",
        "            a[store] = update + '\\n'\n",
        "            flag = 1\n",
        "            break\n",
        "\n",
        "  if flag == 0:\n",
        "      return \"Contact doesn't exist\"\n",
        "\n",
        "  f = open('contacts.txt', 'w')\n",
        "  f.writelines(a)\n",
        "  f.close()\n"
      ],
      "metadata": {
        "id": "sRXoJaA6MrKw"
      },
      "execution_count": 7,
      "outputs": []
    },
    {
      "cell_type": "code",
      "source": [
        "def open_contact(name):\n",
        "  f=open('contacts.txt','r')\n",
        "  text=f.readlines()\n",
        "  for i in text:\n",
        "    if name in i:\n",
        "      return i\n",
        "  else:\n",
        "    print('name not found')\n",
        "  f.close()"
      ],
      "metadata": {
        "id": "l6uJ3nc0Mo6e"
      },
      "execution_count": 8,
      "outputs": []
    },
    {
      "cell_type": "code",
      "source": [
        "def open_contact():\n",
        "  name=input('enter a name:- ')\n",
        "  n=input('enter u to update or enter d to delete')\n",
        "  if n=='u':\n",
        "    update_contact(name)\n",
        "  elif n=='d':\n",
        "    delete_contact(name)"
      ],
      "metadata": {
        "id": "OF5EHoMLNAPb"
      },
      "execution_count": 9,
      "outputs": []
    },
    {
      "cell_type": "code",
      "source": [
        "def search_contact(name):\n",
        "    f = open('contacts.txt', 'r')\n",
        "    found = False\n",
        "    for line in f:\n",
        "        if name.lower() in line.lower():\n",
        "            print(f\"Contact found: {line.strip()}\")\n",
        "            found = True\n",
        "    if not found:\n",
        "        print(f\"No contact found for '{name}'.\")\n",
        "    f.close()"
      ],
      "metadata": {
        "id": "gr8SATZQZyaL"
      },
      "execution_count": 10,
      "outputs": []
    },
    {
      "cell_type": "code",
      "source": [
        "from IPython.display import clear_output\n",
        "\n",
        "while True:\n",
        "\n",
        "    show_contacts()\n",
        "\n",
        "    action = input(\"Press 'a' - add contact, 'o' - open contact, 's' - search contact, 'q' - quit\")\n",
        "    if action == 'a':\n",
        "      add_contact()\n",
        "\n",
        "    elif action == 'o':\n",
        "        #name = input(\"Enter name of the contact you want to open. \")\n",
        "\n",
        "        open_contact()\n",
        "\n",
        "    elif action == 's':\n",
        "        name = input(\"Enter the name to search: \")\n",
        "        search_contact(name)\n",
        "\n",
        "\n",
        "    elif action == 'q':\n",
        "         break\n",
        "\n",
        "    else:\n",
        "        ## print incorrect choice\n",
        "        print('incorrect choice')"
      ],
      "metadata": {
        "colab": {
          "base_uri": "https://localhost:8080/"
        },
        "id": "AkuhllpaNEFK",
        "outputId": "b18278c0-70bd-49ba-98d0-078e2472cd26"
      },
      "execution_count": 11,
      "outputs": [
        {
          "name": "stdout",
          "output_type": "stream",
          "text": [
            "vivek, vivek@gmail.com, 9921668254\n",
            "ankur, ankur@gmail.com, 8806807004\n",
            "pranav, pranav@gmail.com, 987654321\n",
            "\n",
            "Press 'a' - add contact, 'o' - open contact, 's' - search contact, 'q' - quits\n",
            "Enter the name to search: ankur\n",
            "Contact found: ankur, ankur@gmail.com, 8806807004\n",
            "vivek, vivek@gmail.com, 9921668254\n",
            "ankur, ankur@gmail.com, 8806807004\n",
            "pranav, pranav@gmail.com, 987654321\n",
            "\n",
            "Press 'a' - add contact, 'o' - open contact, 's' - search contact, 'q' - quitq\n"
          ]
        }
      ]
    },
    {
      "cell_type": "code",
      "source": [],
      "metadata": {
        "id": "qaqIY25QNHOC"
      },
      "execution_count": 11,
      "outputs": []
    }
  ]
}